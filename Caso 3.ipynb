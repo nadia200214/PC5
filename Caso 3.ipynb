{
 "cells": [
  {
   "cell_type": "code",
   "execution_count": 21,
   "metadata": {},
   "outputs": [],
   "source": [
    "import pandas as pd\n"
   ]
  },
  {
   "cell_type": "code",
   "execution_count": 22,
   "metadata": {},
   "outputs": [],
   "source": [
    "df_airbnb = pd.read_csv(\"./data/airbnb.csv\")"
   ]
  },
  {
   "cell_type": "code",
   "execution_count": 14,
   "metadata": {},
   "outputs": [],
   "source": [
    "df_filtered = df_airbnb[df_airbnb['price'] <= 50]"
   ]
  },
  {
   "cell_type": "code",
   "execution_count": 15,
   "metadata": {},
   "outputs": [],
   "source": [
    "df_shared = df_filtered[df_filtered['room_type'] == 'Shared room']\n",
    "df_not_shared = df_filtered[df_filtered['room_type'] != 'Shared room']"
   ]
  },
  {
   "cell_type": "code",
   "execution_count": 16,
   "metadata": {},
   "outputs": [],
   "source": [
    "df_shared_sorted = df_shared.sort_values(by=['overall_satisfaction', 'price'], ascending=[False, True])"
   ]
  },
  {
   "cell_type": "code",
   "execution_count": 17,
   "metadata": {},
   "outputs": [],
   "source": [
    "df_not_shared_sorted = df_not_shared.sort_values(by='price', ascending=True)"
   ]
  },
  {
   "cell_type": "code",
   "execution_count": 18,
   "metadata": {},
   "outputs": [],
   "source": [
    "df_final_sorted = pd.concat([df_shared_sorted, df_not_shared_sorted])"
   ]
  },
  {
   "cell_type": "code",
   "execution_count": 19,
   "metadata": {},
   "outputs": [],
   "source": [
    "df_top10 = df_final_sorted.head(10)"
   ]
  },
  {
   "cell_type": "code",
   "execution_count": 20,
   "metadata": {},
   "outputs": [
    {
     "name": "stdout",
     "output_type": "stream",
     "text": [
      "        room_id    host_id    room_type    neighborhood  reviews  \\\n",
      "9065   14933182   91501272  Shared room   Santo António        5   \n",
      "6056   10397682   32344156  Shared room    Misericórdia       15   \n",
      "7060   12299998   66077974  Shared room         Arroios       49   \n",
      "7066   12305540   66077974  Shared room         Arroios       40   \n",
      "8918   14719962   40574313  Shared room  Avenidas Novas        4   \n",
      "7034   12268067   66077974  Shared room         Arroios       96   \n",
      "9964   16150682   58899339  Shared room  Avenidas Novas        4   \n",
      "10723  17096560  107813252  Shared room         Areeiro        5   \n",
      "6459   11427995   32344156  Shared room    Misericórdia       21   \n",
      "11058  17497074   25913998  Shared room         Arroios        7   \n",
      "\n",
      "       overall_satisfaction  accommodates  bedrooms  price  \n",
      "9065                    5.0             8       1.0   11.0  \n",
      "6056                    5.0             8       1.0   13.0  \n",
      "7060                    5.0             1       1.0   13.0  \n",
      "7066                    5.0             1       1.0   13.0  \n",
      "8918                    5.0             4       1.0   13.0  \n",
      "7034                    5.0             1       1.0   16.0  \n",
      "9964                    5.0             9       1.0   16.0  \n",
      "10723                   5.0             1       1.0   16.0  \n",
      "6459                    5.0             8       1.0   18.0  \n",
      "11058                   5.0             1       1.0   18.0  \n"
     ]
    }
   ],
   "source": [
    "print(df_top10)"
   ]
  }
 ],
 "metadata": {
  "kernelspec": {
   "display_name": "Python 3",
   "language": "python",
   "name": "python3"
  },
  "language_info": {
   "codemirror_mode": {
    "name": "ipython",
    "version": 3
   },
   "file_extension": ".py",
   "mimetype": "text/x-python",
   "name": "python",
   "nbconvert_exporter": "python",
   "pygments_lexer": "ipython3",
   "version": "3.10.13"
  }
 },
 "nbformat": 4,
 "nbformat_minor": 2
}
