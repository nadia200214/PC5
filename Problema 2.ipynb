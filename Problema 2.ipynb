{
 "cells": [
  {
   "cell_type": "markdown",
   "metadata": {},
   "source": [
    "Lea el archivo 'winemag-data-130k-v2.csv' y realice lo siguiente:\n",
    "\n",
    "Explore el dataframe según lo visto en clase\n",
    "\n",
    "Realice al menos 4 renombre de columna y 3 creación de nuevas columnas según criterio. Deberá crear las columnas que crea conveniente. Ejemplo: Según el país etiquetelos según continente."
   ]
  },
  {
   "cell_type": "code",
   "execution_count": 2,
   "metadata": {},
   "outputs": [],
   "source": [
    "import pandas as pd"
   ]
  },
  {
   "cell_type": "code",
   "execution_count": 3,
   "metadata": {},
   "outputs": [],
   "source": [
    "df = pd.read_csv('./data/winemag-data-130k-v2.csv')"
   ]
  },
  {
   "cell_type": "code",
   "execution_count": 4,
   "metadata": {},
   "outputs": [],
   "source": [
    "# Renombrar columnas\n",
    "df.rename(columns={\n",
    "    'price': 'precio',\n",
    "    'country': 'pais',\n",
    "    'description': 'descripcion',\n",
    "    'points': 'puntos'\n",
    "}, inplace=True)"
   ]
  },
  {
   "cell_type": "code",
   "execution_count": 5,
   "metadata": {},
   "outputs": [],
   "source": [
    "# Crear la columna 'precio en soles', asumiendo que el precio está en dólares y el cambio es 1 USD = 3.72 PEN\n",
    "df['precio en soles'] = df['precio'] * 3.72"
   ]
  },
  {
   "cell_type": "code",
   "execution_count": 6,
   "metadata": {},
   "outputs": [
    {
     "name": "stdout",
     "output_type": "stream",
     "text": [
      "   Unnamed: 0      pais                                        descripcion  \\\n",
      "0           0     Italy  Aromas include tropical fruit, broom, brimston...   \n",
      "1           1  Portugal  This is ripe and fruity, a wine that is smooth...   \n",
      "2           2        US  Tart and snappy, the flavors of lime flesh and...   \n",
      "3           3        US  Pineapple rind, lemon pith and orange blossom ...   \n",
      "4           4        US  Much like the regular bottling from 2012, this...   \n",
      "\n",
      "                          designation  puntos  precio           province  \\\n",
      "0                        Vulkà Bianco      87     NaN  Sicily & Sardinia   \n",
      "1                            Avidagos      87    15.0              Douro   \n",
      "2                                 NaN      87    14.0             Oregon   \n",
      "3                Reserve Late Harvest      87    13.0           Michigan   \n",
      "4  Vintner's Reserve Wild Child Block      87    65.0             Oregon   \n",
      "\n",
      "              region_1           region_2         taster_name  \\\n",
      "0                 Etna                NaN       Kerin O’Keefe   \n",
      "1                  NaN                NaN          Roger Voss   \n",
      "2    Willamette Valley  Willamette Valley        Paul Gregutt   \n",
      "3  Lake Michigan Shore                NaN  Alexander Peartree   \n",
      "4    Willamette Valley  Willamette Valley        Paul Gregutt   \n",
      "\n",
      "  taster_twitter_handle                                              title  \\\n",
      "0          @kerinokeefe                  Nicosia 2013 Vulkà Bianco  (Etna)   \n",
      "1            @vossroger      Quinta dos Avidagos 2011 Avidagos Red (Douro)   \n",
      "2           @paulgwine       Rainstorm 2013 Pinot Gris (Willamette Valley)   \n",
      "3                   NaN  St. Julian 2013 Reserve Late Harvest Riesling ...   \n",
      "4           @paulgwine   Sweet Cheeks 2012 Vintner's Reserve Wild Child...   \n",
      "\n",
      "          variety               winery  precio en soles  \n",
      "0     White Blend              Nicosia              NaN  \n",
      "1  Portuguese Red  Quinta dos Avidagos            55.80  \n",
      "2      Pinot Gris            Rainstorm            52.08  \n",
      "3        Riesling           St. Julian            48.36  \n",
      "4      Pinot Noir         Sweet Cheeks           241.80  \n"
     ]
    }
   ],
   "source": [
    "print(df.head())"
   ]
  },
  {
   "cell_type": "code",
   "execution_count": 7,
   "metadata": {},
   "outputs": [],
   "source": [
    "#alcular el precio promedio#\n",
    "precio_promedio = df['precio'].mean()"
   ]
  },
  {
   "cell_type": "code",
   "execution_count": 8,
   "metadata": {},
   "outputs": [],
   "source": [
    "# Crear una nueva columna 'precio alto o bajo' basada en el precio promedio\n",
    "df['precio alto o bajo'] = df['precio'].apply(lambda x: 'alto' if x > precio_promedio else 'bajo')"
   ]
  },
  {
   "cell_type": "code",
   "execution_count": 9,
   "metadata": {},
   "outputs": [
    {
     "name": "stdout",
     "output_type": "stream",
     "text": [
      "   Unnamed: 0      pais                                        descripcion  \\\n",
      "0           0     Italy  Aromas include tropical fruit, broom, brimston...   \n",
      "1           1  Portugal  This is ripe and fruity, a wine that is smooth...   \n",
      "\n",
      "    designation  puntos  precio           province region_1 region_2  \\\n",
      "0  Vulkà Bianco      87     NaN  Sicily & Sardinia     Etna      NaN   \n",
      "1      Avidagos      87    15.0              Douro      NaN      NaN   \n",
      "\n",
      "     taster_name taster_twitter_handle  \\\n",
      "0  Kerin O’Keefe          @kerinokeefe   \n",
      "1     Roger Voss            @vossroger   \n",
      "\n",
      "                                           title         variety  \\\n",
      "0              Nicosia 2013 Vulkà Bianco  (Etna)     White Blend   \n",
      "1  Quinta dos Avidagos 2011 Avidagos Red (Douro)  Portuguese Red   \n",
      "\n",
      "                winery  precio en soles precio alto o bajo  \n",
      "0              Nicosia              NaN               bajo  \n",
      "1  Quinta dos Avidagos             55.8               bajo  \n"
     ]
    }
   ],
   "source": [
    "print(df.head(2))"
   ]
  },
  {
   "cell_type": "code",
   "execution_count": 10,
   "metadata": {},
   "outputs": [],
   "source": [
    "# Mapeo de países a continentes\n",
    "continentes = {\n",
    "    'Italy': 'Europe', 'Portugal': 'Europe', 'US': 'North America', \n",
    "    'Spain': 'Europe', 'France': 'Europe', 'Germany': 'Europe', \n",
    "    'Argentina': 'South America', 'Chile': 'South America', \n",
    "    'Australia': 'Oceania', 'Austria': 'Europe', 'South Africa': 'Africa', \n",
    "    'New Zealand': 'Oceania', 'Israel': 'Asia', 'Hungary': 'Europe', \n",
    "    'Greece': 'Europe', 'Romania': 'Europe', 'Mexico': 'North America', \n",
    "    'Canada': 'North America', 'Turkey': 'Asia', 'Czech Republic': 'Europe',\n",
    "    'Slovenia': 'Europe', 'Luxembourg': 'Europe', 'Croatia': 'Europe', \n",
    "    'Georgia': 'Asia', 'Uruguay': 'South America', 'England': 'Europe', \n",
    "    'Lebanon': 'Asia', 'Serbia': 'Europe', 'Brazil': 'South America', \n",
    "    'Moldova': 'Europe', 'Morocco': 'Africa', 'Peru': 'South America', \n",
    "    'India': 'Asia', 'Bulgaria': 'Europe', 'Cyprus': 'Europe', \n",
    "    'Armenia': 'Asia', 'Switzerland': 'Europe', 'Bosnia and Herzegovina': 'Europe',\n",
    "    'Ukraine': 'Europe', 'Slovakia': 'Europe', 'Macedonia': 'Europe'\n",
    "}"
   ]
  },
  {
   "cell_type": "code",
   "execution_count": 11,
   "metadata": {},
   "outputs": [
    {
     "name": "stdout",
     "output_type": "stream",
     "text": [
      "       pais     continente  precio  precio en soles precio alto o bajo\n",
      "0     Italy         Europe     NaN              NaN               bajo\n",
      "1  Portugal         Europe    15.0            55.80               bajo\n",
      "2        US  North America    14.0            52.08               bajo\n",
      "3        US  North America    13.0            48.36               bajo\n",
      "4        US  North America    65.0           241.80               alto\n"
     ]
    }
   ],
   "source": [
    "# Aplicar el mapeo para crear la columna 'continente'\n",
    "df['continente'] = df['pais'].map(continentes)\n",
    "\n",
    "# Mostrar las primeras filas del dataframe modificado para verificar los cambios\n",
    "print(df[['pais', 'continente', 'precio', 'precio en soles', 'precio alto o bajo']].head())"
   ]
  },
  {
   "cell_type": "code",
   "execution_count": 12,
   "metadata": {},
   "outputs": [
    {
     "name": "stdout",
     "output_type": "stream",
     "text": [
      "   Unnamed: 0      pais                                        descripcion  \\\n",
      "0           0     Italy  Aromas include tropical fruit, broom, brimston...   \n",
      "1           1  Portugal  This is ripe and fruity, a wine that is smooth...   \n",
      "\n",
      "    designation  puntos  precio           province region_1 region_2  \\\n",
      "0  Vulkà Bianco      87     NaN  Sicily & Sardinia     Etna      NaN   \n",
      "1      Avidagos      87    15.0              Douro      NaN      NaN   \n",
      "\n",
      "     taster_name taster_twitter_handle  \\\n",
      "0  Kerin O’Keefe          @kerinokeefe   \n",
      "1     Roger Voss            @vossroger   \n",
      "\n",
      "                                           title         variety  \\\n",
      "0              Nicosia 2013 Vulkà Bianco  (Etna)     White Blend   \n",
      "1  Quinta dos Avidagos 2011 Avidagos Red (Douro)  Portuguese Red   \n",
      "\n",
      "                winery  precio en soles precio alto o bajo continente  \n",
      "0              Nicosia              NaN               bajo     Europe  \n",
      "1  Quinta dos Avidagos             55.8               bajo     Europe  \n"
     ]
    }
   ],
   "source": [
    "print(df.head(2))"
   ]
  },
  {
   "cell_type": "markdown",
   "metadata": {},
   "source": [
    "#Genere 4 reportes por agrupamiento de datos. Deberá elegir que reportes realizar#"
   ]
  },
  {
   "cell_type": "code",
   "execution_count": 13,
   "metadata": {},
   "outputs": [],
   "source": [
    "idx = df.groupby('continente')['puntos'].idxmax()"
   ]
  },
  {
   "cell_type": "code",
   "execution_count": 14,
   "metadata": {},
   "outputs": [],
   "source": [
    "mejores_vinos_por_continente = df.loc[idx, ['continente', 'pais', 'winery', 'variety', 'puntos', 'descripcion']]"
   ]
  },
  {
   "cell_type": "code",
   "execution_count": 15,
   "metadata": {},
   "outputs": [
    {
     "name": "stdout",
     "output_type": "stream",
     "text": [
      "          continente          pais                       winery  \\\n",
      "9912          Africa  South Africa                     De Toren   \n",
      "6673            Asia         India                         Sula   \n",
      "7335          Europe         Italy                   Avignonesi   \n",
      "45798  North America            US                    Cardinale   \n",
      "345          Oceania     Australia  Chambers Rosewood Vineyards   \n",
      "8869   South America     Argentina                 Pascual Toso   \n",
      "\n",
      "                         variety  puntos  \\\n",
      "9912    Bordeaux-style Red Blend      95   \n",
      "6673                      Shiraz      93   \n",
      "7335            Prugnolo Gentile     100   \n",
      "45798         Cabernet Sauvignon     100   \n",
      "345                       Muscat     100   \n",
      "8869   Cabernet Sauvignon-Malbec      95   \n",
      "\n",
      "                                             descripcion  \n",
      "9912   Only 95 cases were made of this Bordeaux-style...  \n",
      "6673   The nose carries notes of cassis, blackberry a...  \n",
      "7335   Thick as molasses and dark as caramelized brow...  \n",
      "45798  Tasted in a flight of great and famous Napa wi...  \n",
      "345    This wine contains some material over 100 year...  \n",
      "8869   If you love massive Argentine reds with purity...  \n"
     ]
    }
   ],
   "source": [
    "print(mejores_vinos_por_continente)"
   ]
  },
  {
   "cell_type": "markdown",
   "metadata": {},
   "source": [
    "SEGUNDO REPORTE"
   ]
  },
  {
   "cell_type": "code",
   "execution_count": 16,
   "metadata": {},
   "outputs": [
    {
     "name": "stdout",
     "output_type": "stream",
     "text": [
      "Index(['Unnamed: 0', 'pais', 'descripcion', 'designation', 'puntos', 'precio',\n",
      "       'province', 'region_1', 'region_2', 'taster_name',\n",
      "       'taster_twitter_handle', 'title', 'variety', 'winery',\n",
      "       'precio en soles', 'precio alto o bajo', 'continente'],\n",
      "      dtype='object')\n"
     ]
    }
   ],
   "source": [
    "print(df.columns)"
   ]
  },
  {
   "cell_type": "code",
   "execution_count": 17,
   "metadata": {},
   "outputs": [],
   "source": [
    "precio_promedio = df['precio en soles'].mean()\n",
    "\n",
    "# Crear una nueva columna 'precio alto o bajo' basada en el precio promedio\n",
    "df['precio alto o bajo'] = df['precio en soles'].apply(lambda x: 'Alto' if x > precio_promedio else 'Bajo')\n",
    "\n",
    "# Ordenar el DataFrame por el precio alto o bajo de manera descendente y seleccionar las columnas requeridas\n",
    "df_reporte_precio = df.sort_values(by='precio alto o bajo', ascending=False)[['precio alto o bajo', 'precio en soles']]\n"
   ]
  },
  {
   "cell_type": "code",
   "execution_count": 140,
   "metadata": {},
   "outputs": [
    {
     "name": "stdout",
     "output_type": "stream",
     "text": [
      "Requirement already satisfied: openpyxl in /usr/local/python/3.10.13/lib/python3.10/site-packages (3.1.2)\n",
      "Requirement already satisfied: et-xmlfile in /usr/local/python/3.10.13/lib/python3.10/site-packages (from openpyxl) (1.1.0)\n"
     ]
    }
   ],
   "source": [
    "!pip install openpyxl"
   ]
  },
  {
   "cell_type": "code",
   "execution_count": 18,
   "metadata": {},
   "outputs": [
    {
     "name": "stdout",
     "output_type": "stream",
     "text": [
      "      precio alto o bajo  precio en soles\n",
      "0                   Bajo              NaN\n",
      "39803               Bajo            33.48\n",
      "39843               Bajo            63.24\n",
      "39845               Bajo            37.20\n",
      "39846               Bajo           111.60\n",
      "...                  ...              ...\n",
      "49323               Alto           706.80\n",
      "49322               Alto           967.20\n",
      "49321               Alto           837.00\n",
      "49320               Alto           279.00\n",
      "46156               Alto           193.44\n",
      "\n",
      "[65499 rows x 2 columns]\n"
     ]
    }
   ],
   "source": [
    "print(df_reporte_precio)"
   ]
  },
  {
   "cell_type": "code",
   "execution_count": 20,
   "metadata": {},
   "outputs": [],
   "source": [
    "df_reporte_precio.to_excel(\"reporteprecio.xlsx\",index=False,engine='openpyxl')"
   ]
  }
 ],
 "metadata": {
  "kernelspec": {
   "display_name": "Python 3",
   "language": "python",
   "name": "python3"
  },
  "language_info": {
   "codemirror_mode": {
    "name": "ipython",
    "version": 3
   },
   "file_extension": ".py",
   "mimetype": "text/x-python",
   "name": "python",
   "nbconvert_exporter": "python",
   "pygments_lexer": "ipython3",
   "version": "3.10.13"
  }
 },
 "nbformat": 4,
 "nbformat_minor": 2
}
