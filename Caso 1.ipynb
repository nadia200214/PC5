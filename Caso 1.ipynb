{
 "cells": [
  {
   "cell_type": "markdown",
   "metadata": {},
   "source": [
    "Caso 1.\n",
    "Alicia va a ir a Lisboa durante una semana con su marido y sus 2 hijos. Están buscando un apartamento con habitaciones separadas para los padres y los hijos. No les importa donde alojarse o el precio, simplemente quieren tener una experiencia agradable. Esto significa que solo aceptan lugares con más de 10 críticas con una puntuación mayor de 4. Cuando seleccionemos habitaciones para Alicia, tenemos que asegurarnos de ordenar las habitaciones de mejor a peor puntuación. Para aquellas habitaciones que tienen la misma puntuación, debemos mostrar antes aquellas con más críticas. Debemos darle 3 alternativas."
   ]
  },
  {
   "cell_type": "markdown",
   "metadata": {},
   "source": [
    "En concreto el dataset tiene las siguientes variables:\n",
    "\n",
    "room_id: el identificador de la propiedad\n",
    "host_id: el identificador del dueño de la propiedad\n",
    "room_type: tipo de propiedad (vivienda completa/(habitacion para compartir/habitación privada)\n",
    "neighborhood: el barrio de Lisboa\n",
    "reviews: El numero de opiniones\n",
    "overall_satisfaction: Puntuacion media del apartamento\n",
    "accommodates: El numero de personas que se pueden alojar en la propiedad\n",
    "bedrooms: El número de habitaciones\n",
    "price: El precio (en euros) por noche"
   ]
  },
  {
   "cell_type": "code",
   "execution_count": 2,
   "metadata": {},
   "outputs": [],
   "source": [
    "import pandas as pd\n",
    "\n",
    "# Cargar los datos desde el archivo CSV\n",
    "df_airbnb = pd.read_csv(\"./data/airbnb.csv\")"
   ]
  },
  {
   "cell_type": "code",
   "execution_count": 3,
   "metadata": {},
   "outputs": [],
   "source": [
    "df_filtered = df_airbnb[(df_airbnb['reviews'] > 10) & \n",
    "                        (df_airbnb['overall_satisfaction'] > 4) & \n",
    "                        (df_airbnb['accommodates'] >= 4)]"
   ]
  },
  {
   "cell_type": "code",
   "execution_count": 4,
   "metadata": {},
   "outputs": [],
   "source": [
    "# Ordenar los resultados por puntuación de forma descendente y por número de críticas en caso de empate\n",
    "df_sorted = df_filtered.sort_values(by=['overall_satisfaction', 'reviews'], ascending=[False, False])"
   ]
  },
  {
   "cell_type": "code",
   "execution_count": 5,
   "metadata": {},
   "outputs": [],
   "source": [
    "df_top3 = df_sorted.head(3)"
   ]
  },
  {
   "cell_type": "code",
   "execution_count": 7,
   "metadata": {},
   "outputs": [
    {
     "name": "stdout",
     "output_type": "stream",
     "text": [
      "     room_id  host_id        room_type       neighborhood  reviews  \\\n",
      "120   176153   842219  Entire home/apt       Misericórdia      438   \n",
      "16     44043   192830  Entire home/apt  Santa Maria Maior      316   \n",
      "697   789789  4043364  Entire home/apt       Misericórdia      287   \n",
      "\n",
      "     overall_satisfaction  accommodates  bedrooms  price  \n",
      "120                   5.0             4       2.0  102.0  \n",
      "16                    5.0             7       3.0   80.0  \n",
      "697                   5.0             4       1.0   84.0  \n"
     ]
    }
   ],
   "source": [
    "print(df_top3)"
   ]
  }
 ],
 "metadata": {
  "kernelspec": {
   "display_name": "Python 3",
   "language": "python",
   "name": "python3"
  },
  "language_info": {
   "codemirror_mode": {
    "name": "ipython",
    "version": 3
   },
   "file_extension": ".py",
   "mimetype": "text/x-python",
   "name": "python",
   "nbconvert_exporter": "python",
   "pygments_lexer": "ipython3",
   "version": "3.10.13"
  }
 },
 "nbformat": 4,
 "nbformat_minor": 2
}
